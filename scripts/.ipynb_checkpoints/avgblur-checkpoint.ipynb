{
 "cells": [
  {
   "cell_type": "code",
   "execution_count": 2,
   "id": "e9aa5cad",
   "metadata": {},
   "outputs": [],
   "source": [
    "img_path = '../resources/raw_imgs/chebu.jpg'\n",
    "# Resized image from ffmpeg to compare to\n",
    "blurred_image_path = '../resources/raw_imgs/chebu_avgblur.jpg'\n",
    "# Deviation of Gaussian Blur (can configure vertical/horizontal blurs separately but we won't)\n",
    "radius = 10\n",
    "radiusV = 10\n",
    "# Constant for our case\n",
    "planes = 3\n"
   ]
  },
  {
   "cell_type": "code",
   "execution_count": 3,
   "id": "4062dc8f",
   "metadata": {},
   "outputs": [],
   "source": [
    "# Load in image\n",
    "import numpy as np\n",
    "from PIL import Image\n",
    "\n",
    "def decompose_image(file_path):\n",
    "    # Open the image file\n",
    "    img = Image.open(file_path)\n",
    "    \n",
    "    # Convert the image to a NumPy array\n",
    "    img_array = np.array(img)\n",
    "    \n",
    "    # Check if the image is RGB\n",
    "    if len(img_array.shape) != 3 or img_array.shape[2] != 3:\n",
    "        raise ValueError(\"The image must be in RGB format\")\n",
    "    \n",
    "    # Decompose into R, G, B channels\n",
    "    r_channel = img_array[:, :, 0]\n",
    "    g_channel = img_array[:, :, 1]\n",
    "    b_channel = img_array[:, :, 2]\n",
    "    \n",
    "    \n",
    "    return r_channel, g_channel, b_channel\n",
    "\n",
    "# Usage\n",
    "r, g, b = decompose_image(img_path)\n",
    "r_blurred, g_blurred, b_blurred = decompose_image(blurred_image_path)"
   ]
  },
  {
   "cell_type": "code",
   "execution_count": 4,
   "id": "d44f7e01",
   "metadata": {},
   "outputs": [],
   "source": [
    "# Copy config_input function loosely\n",
    "depth = 8 # we use 8 bit color channels\n",
    "max_color = 256 # Probably using strict lt\n",
    "# Does something with plane heights that's only interesting in YUV color scheme (some channels are 16 bits then)\n",
    "nb_planes = 3\n",
    "\n",
    "area = (2 * radius + 1) * (2 * radiusV + 1)"
   ]
  },
  {
   "cell_type": "code",
   "execution_count": 5,
   "id": "411ab47e",
   "metadata": {},
   "outputs": [],
   "source": [
    "def avgblur(channel):\n",
    "    height, width = channel.shape\n",
    "    src = channel.flatten()\n",
    "    dst = np.empty(height * width, dtype=np.uint8)\n",
    "    arr = np.empty(width + (1024 * 2 + 1), dtype=np.int32) \n",
    "    linesize, dlinesize = width # not working with 16-bit color channels generally\n",
    "    bsum = 0\n",
    "    "
   ]
  }
 ],
 "metadata": {
  "kernelspec": {
   "display_name": "Python 3 (ipykernel)",
   "language": "python",
   "name": "python3"
  },
  "language_info": {
   "codemirror_mode": {
    "name": "ipython",
    "version": 3
   },
   "file_extension": ".py",
   "mimetype": "text/x-python",
   "name": "python",
   "nbconvert_exporter": "python",
   "pygments_lexer": "ipython3",
   "version": "3.9.20"
  }
 },
 "nbformat": 4,
 "nbformat_minor": 5
}
